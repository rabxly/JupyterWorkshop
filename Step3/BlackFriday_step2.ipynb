{
 "cells": [
  {
   "cell_type": "code",
   "execution_count": 1,
   "metadata": {},
   "outputs": [],
   "source": [
    "from matplotlib import pyplot as plt\n",
    "\n",
    "import pandas as pd\n",
    "import numpy as np\n",
    "import seaborn as sns\n",
    "\n",
    "%matplotlib notebook"
   ]
  },
  {
   "cell_type": "code",
   "execution_count": null,
   "metadata": {},
   "outputs": [],
   "source": [
    "df = pd.read_csv(\"../data/BlackFriday.csv\")"
   ]
  },
  {
   "cell_type": "code",
   "execution_count": null,
   "metadata": {},
   "outputs": [],
   "source": [
    "df.head()"
   ]
  },
  {
   "cell_type": "code",
   "execution_count": null,
   "metadata": {},
   "outputs": [],
   "source": [
    "## Remove capitals from column names\n",
    "\n",
    "df.columns = [col.lower() for col in df.columns]\n",
    "df.columns"
   ]
  },
  {
   "cell_type": "code",
   "execution_count": null,
   "metadata": {},
   "outputs": [],
   "source": [
    "## Check dtypes\n",
    "\n",
    "df.info()"
   ]
  },
  {
   "cell_type": "code",
   "execution_count": null,
   "metadata": {},
   "outputs": [],
   "source": [
    "## Check value counts in product categories\n",
    "\n",
    "df[\"product_category_2\"].value_counts().sort_index()"
   ]
  },
  {
   "cell_type": "code",
   "execution_count": null,
   "metadata": {},
   "outputs": [],
   "source": [
    "## Fill missing Values in product_category_2 and product_category_3 with 0\n",
    "\n",
    "df[\"product_category_2\"] = df[\"product_category_2\"].fillna(0)\n",
    "df[\"product_category_3\"] = df[\"product_category_3\"].fillna(0)"
   ]
  },
  {
   "cell_type": "code",
   "execution_count": null,
   "metadata": {},
   "outputs": [],
   "source": [
    "df.info()"
   ]
  },
  {
   "cell_type": "code",
   "execution_count": null,
   "metadata": {},
   "outputs": [],
   "source": [
    "## Check Occupation, Marital_Status and Product Categories\n",
    "\n",
    "df[\"occupation\"].value_counts().sort_index()"
   ]
  },
  {
   "cell_type": "code",
   "execution_count": null,
   "metadata": {},
   "outputs": [],
   "source": [
    "## Convert user_id to str and product categories to int\n",
    "\n",
    "df[\"user_id\"] = df[\"user_id\"].astype(object)\n",
    "\n",
    "cols_to_int = [\"product_category_2\", \"product_category_3\"]\n",
    "\n",
    "for col in cols_to_int:\n",
    "    df[col] = df[col].astype(int)"
   ]
  },
  {
   "cell_type": "code",
   "execution_count": null,
   "metadata": {},
   "outputs": [],
   "source": [
    "df.dtypes"
   ]
  },
  {
   "cell_type": "code",
   "execution_count": null,
   "metadata": {},
   "outputs": [],
   "source": [
    "## unique customer count\n",
    "\n",
    "len(df[\"user_id\"].unique())"
   ]
  },
  {
   "cell_type": "code",
   "execution_count": null,
   "metadata": {},
   "outputs": [],
   "source": [
    "srs_transaction_count = df[\"user_id\"].value_counts()\n",
    "srs_transaction_count.head()"
   ]
  },
  {
   "cell_type": "code",
   "execution_count": null,
   "metadata": {},
   "outputs": [],
   "source": [
    "## plot histogram for number of bought items per customer\n",
    "\n",
    "plt.figure()\n",
    "sns.distplot(srs_transaction_count.values, bins=100, kde=False)\n",
    "plt.show()"
   ]
  },
  {
   "cell_type": "code",
   "execution_count": null,
   "metadata": {},
   "outputs": [],
   "source": [
    "age_counts = df[\"age\"].value_counts().sort_index()\n",
    "age_counts"
   ]
  },
  {
   "cell_type": "code",
   "execution_count": null,
   "metadata": {},
   "outputs": [],
   "source": [
    "## plot a barplot of the age counts\n",
    "plt.figure()\n",
    "sns.barplot(age_counts.index, age_counts.values)\n",
    "plt.show()"
   ]
  },
  {
   "cell_type": "code",
   "execution_count": null,
   "metadata": {},
   "outputs": [],
   "source": [
    "## How many customers were per age group\n",
    "\n",
    "customer_counts = df.groupby(\"user_id\")[\"age\"].apply(max).value_counts().sort_index()"
   ]
  },
  {
   "cell_type": "code",
   "execution_count": null,
   "metadata": {},
   "outputs": [],
   "source": [
    "plt.figure()\n",
    "sns.barplot(customer_counts.index, customer_counts.values)\n",
    "plt.show()"
   ]
  },
  {
   "cell_type": "code",
   "execution_count": null,
   "metadata": {},
   "outputs": [],
   "source": [
    "## How much money did the customers spend per age group\n",
    "\n",
    "age_spent = df.groupby(\"age\")[\"purchase\"].apply(sum)\n",
    "age_spent"
   ]
  },
  {
   "cell_type": "code",
   "execution_count": null,
   "metadata": {},
   "outputs": [],
   "source": [
    "plt.figure()\n",
    "sns.barplot(age_spent.index, age_spent.values)\n",
    "plt.show()"
   ]
  },
  {
   "cell_type": "code",
   "execution_count": null,
   "metadata": {},
   "outputs": [],
   "source": [
    "age_avg = df.groupby(\"age\")[\"purchase\"].apply(np.mean)\n",
    "age_avg"
   ]
  },
  {
   "cell_type": "code",
   "execution_count": null,
   "metadata": {},
   "outputs": [],
   "source": [
    "plt.figure()\n",
    "sns.barplot(age_avg.index, age_avg.values)\n",
    "plt.show()"
   ]
  },
  {
   "cell_type": "code",
   "execution_count": null,
   "metadata": {},
   "outputs": [],
   "source": [
    "## transaction count per city category\n",
    "city_srs = df[\"city_category\"].value_counts()\n",
    "city_srs"
   ]
  },
  {
   "cell_type": "code",
   "execution_count": null,
   "metadata": {},
   "outputs": [],
   "source": [
    "plt.figure()\n",
    "sns.barplot(city_srs.index, city_srs.values)\n",
    "plt.show()"
   ]
  },
  {
   "cell_type": "code",
   "execution_count": null,
   "metadata": {},
   "outputs": [],
   "source": [
    "srs_purchase_sum = df.groupby(\"user_id\")[\"purchase\"].apply(sum).reset_index()\n",
    "srs_categories = df.groupby(\"user_id\")[[\"marital_status\", \"gender\", \"age\", \"city_category\", \"stay_in_current_city_years\" ]].apply(max).reset_index()\n",
    "df_unique = srs_categories.merge(srs_purchase_sum, on=\"user_id\").sort_values(\"age\")\n",
    "df_unique.head()"
   ]
  },
  {
   "cell_type": "code",
   "execution_count": null,
   "metadata": {},
   "outputs": [],
   "source": [
    "plt.figure()\n",
    "sns.pointplot(x=\"age\", y=\"purchase\", hue=\"gender\", data=df_unique)\n",
    "plt.show()"
   ]
  },
  {
   "cell_type": "code",
   "execution_count": null,
   "metadata": {},
   "outputs": [],
   "source": [
    "##boxplot of spent money per city category and gender\n",
    "\n",
    "plt.figure()\n",
    "sns.boxplot(x=\"city_category\", y=\"purchase\", hue=\"gender\", data=df_unique, palette=\"PRGn\")\n",
    "plt.show()"
   ]
  },
  {
   "cell_type": "code",
   "execution_count": null,
   "metadata": {},
   "outputs": [],
   "source": [
    "##boxplot of spent money per city category and gender\n",
    "\n",
    "plt.figure()\n",
    "sns.boxplot(x=\"stay_in_current_city_years\", y=\"purchase\", hue=\"gender\", data=df_unique, palette=\"PRGn\")\n",
    "plt.show()"
   ]
  },
  {
   "cell_type": "code",
   "execution_count": null,
   "metadata": {},
   "outputs": [],
   "source": [
    "plt.figure()\n",
    "sns.pointplot(x=\"product_category_1\", y=\"purchase\", data=df, estimator=np.mean)\n",
    "plt.show()"
   ]
  },
  {
   "cell_type": "code",
   "execution_count": null,
   "metadata": {},
   "outputs": [],
   "source": [
    "srs_category_ratio = df.groupby(\"product_category_1\").apply(lambda x: (len(x) / len(df))*100).reset_index()\n",
    "srs_category_mean = df.groupby(\"product_category_1\")[\"purchase\"].apply(np.mean).reset_index()\n",
    "\n",
    "df_category_1 = srs_category_ratio.merge(srs_category_mean, on=\"product_category_1\")\n",
    "df_category_1.columns =[\"category\", \"purchase_ratio\", \"avg_purchase\"]\n",
    "df_category_1.head()"
   ]
  },
  {
   "cell_type": "code",
   "execution_count": null,
   "metadata": {},
   "outputs": [],
   "source": [
    "sns.pairplot(df_category_1[[\"purchase_ratio\", \"avg_purchase\"]])\n",
    "plt.show()"
   ]
  },
  {
   "cell_type": "code",
   "execution_count": null,
   "metadata": {},
   "outputs": [],
   "source": [
    "sns.jointplot(x=\"purchase_ratio\", y=\"avg_purchase\", data=df_category_1, kind=\"reg\", size=7)\n",
    "plt.show()"
   ]
  },
  {
   "cell_type": "code",
   "execution_count": null,
   "metadata": {},
   "outputs": [],
   "source": [
    "product_count = df.groupby(\"product_id\").apply(len).reset_index()\n",
    "product_price = df.groupby(\"product_id\")[\"purchase\"].apply(np.mean).reset_index()\n",
    "\n",
    "df_product = product_count.merge(product_price, on=\"product_id\")\n",
    "df_product.columns=[\"product_id\", \"purchase_count\", \"avg_price\"]\n",
    "df_product.head()"
   ]
  },
  {
   "cell_type": "code",
   "execution_count": null,
   "metadata": {},
   "outputs": [],
   "source": [
    "sns.pairplot(df_product[[\"purchase_count\", \"avg_price\"]])\n",
    "plt.show()"
   ]
  },
  {
   "cell_type": "code",
   "execution_count": null,
   "metadata": {},
   "outputs": [],
   "source": [
    "sns.jointplot(x=\"purchase_count\", y=\"avg_price\", data=df_product, kind=\"reg\", size=7)\n",
    "plt.show()"
   ]
  },
  {
   "cell_type": "code",
   "execution_count": null,
   "metadata": {},
   "outputs": [],
   "source": []
  },
  {
   "cell_type": "code",
   "execution_count": null,
   "metadata": {},
   "outputs": [],
   "source": []
  },
  {
   "cell_type": "code",
   "execution_count": null,
   "metadata": {},
   "outputs": [],
   "source": []
  },
  {
   "cell_type": "code",
   "execution_count": null,
   "metadata": {},
   "outputs": [],
   "source": []
  },
  {
   "cell_type": "code",
   "execution_count": null,
   "metadata": {},
   "outputs": [],
   "source": []
  }
 ],
 "metadata": {
  "kernelspec": {
   "display_name": "Python 3",
   "language": "python",
   "name": "python3"
  },
  "language_info": {
   "codemirror_mode": {
    "name": "ipython",
    "version": 3
   },
   "file_extension": ".py",
   "mimetype": "text/x-python",
   "name": "python",
   "nbconvert_exporter": "python",
   "pygments_lexer": "ipython3",
   "version": "3.6.4"
  }
 },
 "nbformat": 4,
 "nbformat_minor": 2
}
